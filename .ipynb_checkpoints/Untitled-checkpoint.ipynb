{
 "cells": [
  {
   "cell_type": "code",
   "execution_count": 9,
   "metadata": {},
   "outputs": [],
   "source": []
  },
  {
   "cell_type": "code",
   "execution_count": 51,
   "metadata": {},
   "outputs": [],
   "source": [
    "import pandas as pd\n",
    "import urllib\n",
    "import random\n",
    "from bs4 import BeautifulSoup\n",
    "import json, sys\n",
    "import urllib.request\n"
   ]
  },
  {
   "cell_type": "code",
   "execution_count": null,
   "metadata": {},
   "outputs": [],
   "source": []
  },
  {
   "cell_type": "code",
   "execution_count": null,
   "metadata": {},
   "outputs": [],
   "source": []
  },
  {
   "cell_type": "code",
   "execution_count": 57,
   "metadata": {},
   "outputs": [
    {
     "name": "stdout",
     "output_type": "stream",
     "text": [
      "ハーシー\n"
     ]
    }
   ],
   "source": [
    "def english_to_katakana(word):\n",
    "    url = 'https://www.sljfaq.org/cgi/e2k_ja.cgi'\n",
    "    url_q = url + '?word=' + word\n",
    "    headers = {'User-Agent': 'Mozilla/5.0 (X11; Ubuntu; Linux x86_64; rv:47.0) Gecko/20100101 Firefox/47.0'}\n",
    "\n",
    "    request = urllib.request.Request(url_q, headers=headers)\n",
    "    html = urllib.request.urlopen(request)\n",
    "    soup = BeautifulSoup(html, 'html.parser')\n",
    "    katakana_string = soup.find_all(class_='katakana-string')[0].string.replace('\\n', '')\n",
    "\n",
    "    return katakana_string\n",
    "\n",
    "f =open ('/usr/share/dict/words','r')\n",
    "lines=f.readlines()\n",
    "f.close()\n",
    "\n",
    "input_word= lines[random.randint(1,len(lines)-1)].replace('¥r','')\n",
    "word = input_word\n",
    "\n",
    "katakana_string = english_to_katakana(word)\n",
    "print(katakana_string)"
   ]
  },
  {
   "cell_type": "code",
   "execution_count": 55,
   "metadata": {},
   "outputs": [],
   "source": [
    "def translate(katakana_string):\n",
    "                                                                                                                                                    \n",
    "    from_lang = \"en\"# English                                                                                                                                            \n",
    "    dest_lang = \"ja\"# Japanese                                                                                                                                           \n",
    "    url = \"https://glosbe.com/gapi/translate?from=\" \\\n",
    "        + from_lang + \"&dest=\" + dest_lang \\\n",
    "        + \"&format=json&phrase=\" + katakana_string + \"&pretty=true\"\n",
    "    response = urllib.request.urlopen(url)\n",
    "    json_data = response.read()\n",
    "    json_dict = json.loads(json_data)\n",
    "\n",
    "    return_txt = \"\" #                                                                                                                                 \n",
    "    tuc = json_dict[\"tuc\"]                                                                                                                                \n",
    "    for i in range(len(tuc)):\n",
    "        if u\"katakana_string\" in tuc[i].keys():\n",
    "            return_txt += tuc[i][\"katakana_string\"][\"text\"] + \"\\n\"                                                                                                              \n",
    "    return return_txt\n",
    "\n"
   ]
  },
  {
   "cell_type": "code",
   "execution_count": 56,
   "metadata": {},
   "outputs": [
    {
     "ename": "AttributeError",
     "evalue": "module 'urllib' has no attribute 'urlopen'",
     "output_type": "error",
     "traceback": [
      "\u001b[0;31m---------------------------------------------------------------------------\u001b[0m",
      "\u001b[0;31mAttributeError\u001b[0m                            Traceback (most recent call last)",
      "\u001b[0;32m<ipython-input-56-7f8243c13d3b>\u001b[0m in \u001b[0;36m<module>\u001b[0;34m\u001b[0m\n\u001b[0;32m----> 1\u001b[0;31m \u001b[0mphrase_jp\u001b[0m \u001b[0;34m=\u001b[0m \u001b[0mtranslate\u001b[0m\u001b[0;34m(\u001b[0m\u001b[0mkatakana_string\u001b[0m\u001b[0;34m)\u001b[0m\u001b[0;34m\u001b[0m\u001b[0m\n\u001b[0m\u001b[1;32m      2\u001b[0m \u001b[0;32mif\u001b[0m \u001b[0mphrase_jp\u001b[0m\u001b[0;34m:\u001b[0m\u001b[0;34m\u001b[0m\u001b[0m\n\u001b[1;32m      3\u001b[0m     \u001b[0mprint\u001b[0m\u001b[0;34m(\u001b[0m\u001b[0mphrase_jp\u001b[0m\u001b[0;34m)\u001b[0m\u001b[0;34m\u001b[0m\u001b[0m\n\u001b[1;32m      4\u001b[0m \u001b[0;32melse\u001b[0m\u001b[0;34m:\u001b[0m\u001b[0;34m\u001b[0m\u001b[0m\n\u001b[1;32m      5\u001b[0m     \u001b[0mprint\u001b[0m\u001b[0;34m(\u001b[0m\u001b[0mnot_found\u001b[0m\u001b[0;34m)\u001b[0m\u001b[0;34m\u001b[0m\u001b[0m\n",
      "\u001b[0;32m<ipython-input-55-f3e6c064239d>\u001b[0m in \u001b[0;36mtranslate\u001b[0;34m(katakana_string)\u001b[0m\n\u001b[1;32m      6\u001b[0m         \u001b[0;34m+\u001b[0m \u001b[0mfrom_lang\u001b[0m \u001b[0;34m+\u001b[0m \u001b[0;34m\"&dest=\"\u001b[0m \u001b[0;34m+\u001b[0m \u001b[0mdest_lang\u001b[0m\u001b[0;31m \u001b[0m\u001b[0;31m\\\u001b[0m\u001b[0;34m\u001b[0m\u001b[0m\n\u001b[1;32m      7\u001b[0m         \u001b[0;34m+\u001b[0m \u001b[0;34m\"&format=json&phrase=\"\u001b[0m \u001b[0;34m+\u001b[0m \u001b[0mkatakana_string\u001b[0m \u001b[0;34m+\u001b[0m \u001b[0;34m\"&pretty=true\"\u001b[0m\u001b[0;34m\u001b[0m\u001b[0m\n\u001b[0;32m----> 8\u001b[0;31m     \u001b[0mresponse\u001b[0m \u001b[0;34m=\u001b[0m \u001b[0murllib\u001b[0m\u001b[0;34m.\u001b[0m\u001b[0murlopen\u001b[0m\u001b[0;34m(\u001b[0m\u001b[0murl\u001b[0m\u001b[0;34m)\u001b[0m\u001b[0;34m\u001b[0m\u001b[0m\n\u001b[0m\u001b[1;32m      9\u001b[0m     \u001b[0mjson_data\u001b[0m \u001b[0;34m=\u001b[0m \u001b[0mresponse\u001b[0m\u001b[0;34m.\u001b[0m\u001b[0mread\u001b[0m\u001b[0;34m(\u001b[0m\u001b[0;34m)\u001b[0m\u001b[0;34m\u001b[0m\u001b[0m\n\u001b[1;32m     10\u001b[0m     \u001b[0mjson_dict\u001b[0m \u001b[0;34m=\u001b[0m \u001b[0mjson\u001b[0m\u001b[0;34m.\u001b[0m\u001b[0mloads\u001b[0m\u001b[0;34m(\u001b[0m\u001b[0mjson_data\u001b[0m\u001b[0;34m)\u001b[0m\u001b[0;34m\u001b[0m\u001b[0m\n",
      "\u001b[0;31mAttributeError\u001b[0m: module 'urllib' has no attribute 'urlopen'"
     ]
    }
   ],
   "source": [
    "phrase_jp = translate(katakana_string)\n",
    "if phrase_jp:                                                                                                                          \n",
    "    print(phrase_jp)\n",
    "else:\n",
    "    print(not_found)"
   ]
  },
  {
   "cell_type": "code",
   "execution_count": null,
   "metadata": {},
   "outputs": [],
   "source": []
  }
 ],
 "metadata": {
  "kernelspec": {
   "display_name": "Python 3",
   "language": "python",
   "name": "python3"
  },
  "language_info": {
   "codemirror_mode": {
    "name": "ipython",
    "version": 3
   },
   "file_extension": ".py",
   "mimetype": "text/x-python",
   "name": "python",
   "nbconvert_exporter": "python",
   "pygments_lexer": "ipython3",
   "version": "3.5.2"
  }
 },
 "nbformat": 4,
 "nbformat_minor": 2
}
